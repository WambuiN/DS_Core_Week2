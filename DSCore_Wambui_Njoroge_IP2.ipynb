{
  "nbformat": 4,
  "nbformat_minor": 0,
  "metadata": {
    "colab": {
      "name": "DSCore_Wambui_Njoroge_IP2.ipynb",
      "provenance": [],
      "collapsed_sections": [],
      "authorship_tag": "ABX9TyPST29eaM0RKNYA2FMnXusk",
      "include_colab_link": true
    },
    "kernelspec": {
      "name": "python3",
      "display_name": "Python 3"
    }
  },
  "cells": [
    {
      "cell_type": "markdown",
      "metadata": {
        "id": "view-in-github",
        "colab_type": "text"
      },
      "source": [
        "<a href=\"https://colab.research.google.com/github/WambuiN/DS_Core_Week2/blob/main/DSCore_Wambui_Njoroge_IP2.ipynb\" target=\"_parent\"><img src=\"https://colab.research.google.com/assets/colab-badge.svg\" alt=\"Open In Colab\"/></a>"
      ]
    },
    {
      "cell_type": "markdown",
      "metadata": {
        "id": "KSDzdKUDk5lz"
      },
      "source": [
        "Loading Libraries"
      ]
    },
    {
      "cell_type": "code",
      "metadata": {
        "id": "2wDp_W1vBDaY"
      },
      "source": [
        "# Step 1: Importing Libraries\n",
        "import pandas as pd\n",
        "import numpy as np\n",
        "import matplotlib.pyplot as plt\n",
        "import seaborn as sns"
      ],
      "execution_count": 2,
      "outputs": []
    },
    {
      "cell_type": "markdown",
      "metadata": {
        "id": "LNw4iyrsk-VQ"
      },
      "source": [
        "Loading Dataset"
      ]
    },
    {
      "cell_type": "code",
      "metadata": {
        "id": "IA0KP8NOA7wj",
        "outputId": "944b3ff3-bbcb-4143-aaf5-b8865ea40e8c",
        "colab": {
          "base_uri": "https://localhost:8080/",
          "height": 364
        }
      },
      "source": [
        " finance_df = pd.read_csv( 'http://bit.ly/FinancialDataset')\n",
        "\n",
        " finance_df.info()"
      ],
      "execution_count": 3,
      "outputs": [
        {
          "output_type": "stream",
          "text": [
            "<class 'pandas.core.frame.DataFrame'>\n",
            "RangeIndex: 23524 entries, 0 to 23523\n",
            "Data columns (total 13 columns):\n",
            " #   Column                  Non-Null Count  Dtype  \n",
            "---  ------                  --------------  -----  \n",
            " 0   country                 23510 non-null  object \n",
            " 1   year                    23524 non-null  int64  \n",
            " 2   uniqueid                23524 non-null  object \n",
            " 3   Has a Bank account      23488 non-null  object \n",
            " 4   Type of Location        23509 non-null  object \n",
            " 5   Cell Phone Access       23513 non-null  object \n",
            " 6   household_size          23496 non-null  float64\n",
            " 7   Respondent Age          23490 non-null  float64\n",
            " 8   gender_of_respondent    23490 non-null  object \n",
            " 9   The relathip with head  23520 non-null  object \n",
            " 10  marital_status          23492 non-null  object \n",
            " 11  Level of Educuation     23495 non-null  object \n",
            " 12  Type of Job             23494 non-null  object \n",
            "dtypes: float64(2), int64(1), object(10)\n",
            "memory usage: 2.3+ MB\n"
          ],
          "name": "stdout"
        }
      ]
    },
    {
      "cell_type": "code",
      "metadata": {
        "id": "lJZipmXg8x8q",
        "outputId": "4d944ac2-7644-46d7-c0b5-233b487006c0",
        "colab": {
          "base_uri": "https://localhost:8080/",
          "height": 35
        }
      },
      "source": [
        "finance_df.shape"
      ],
      "execution_count": 5,
      "outputs": [
        {
          "output_type": "execute_result",
          "data": {
            "text/plain": [
              "(23524, 13)"
            ]
          },
          "metadata": {
            "tags": []
          },
          "execution_count": 5
        }
      ]
    },
    {
      "cell_type": "markdown",
      "metadata": {
        "id": "Juw7NzxqlDMh"
      },
      "source": [
        "Tidying the Dataset\n"
      ]
    },
    {
      "cell_type": "code",
      "metadata": {
        "id": "RFTFHKC7Q6ce",
        "outputId": "87c31232-cd55-49cb-b306-2532f00bd2a4",
        "colab": {
          "base_uri": "https://localhost:8080/",
          "height": 35
        }
      },
      "source": [
        "#Checking Duplicates\n",
        "finance_df.duplicated().any()"
      ],
      "execution_count": 6,
      "outputs": [
        {
          "output_type": "execute_result",
          "data": {
            "text/plain": [
              "False"
            ]
          },
          "metadata": {
            "tags": []
          },
          "execution_count": 6
        }
      ]
    },
    {
      "cell_type": "code",
      "metadata": {
        "id": "MH_3OkUURP_F",
        "outputId": "64141c67-1b63-4161-fa1a-1acbe286b429",
        "colab": {
          "base_uri": "https://localhost:8080/",
          "height": 260
        }
      },
      "source": [
        "#Checking Null Values\n",
        "finance_df.isna().sum()"
      ],
      "execution_count": 7,
      "outputs": [
        {
          "output_type": "execute_result",
          "data": {
            "text/plain": [
              "country                   14\n",
              "year                       0\n",
              "uniqueid                   0\n",
              "Has a Bank account        36\n",
              "Type of Location          15\n",
              "Cell Phone Access         11\n",
              "household_size            28\n",
              "Respondent Age            34\n",
              "gender_of_respondent      34\n",
              "The relathip with head     4\n",
              "marital_status            32\n",
              "Level of Educuation       29\n",
              "Type of Job               30\n",
              "dtype: int64"
            ]
          },
          "metadata": {
            "tags": []
          },
          "execution_count": 7
        }
      ]
    },
    {
      "cell_type": "code",
      "metadata": {
        "id": "ICnWf4-eSc3y"
      },
      "source": [
        "#Dropping Null Values in Dataset\n",
        "finance_df.dropna(inplace=True)"
      ],
      "execution_count": 4,
      "outputs": []
    },
    {
      "cell_type": "code",
      "metadata": {
        "id": "xPHaLtJTSwgu",
        "outputId": "62fb6960-947c-4791-87d6-cc398bcfb939",
        "colab": {
          "base_uri": "https://localhost:8080/",
          "height": 260
        }
      },
      "source": [
        "finance_df.isna().sum()"
      ],
      "execution_count": 5,
      "outputs": [
        {
          "output_type": "execute_result",
          "data": {
            "text/plain": [
              "country                   0\n",
              "year                      0\n",
              "uniqueid                  0\n",
              "Has a Bank account        0\n",
              "Type of Location          0\n",
              "Cell Phone Access         0\n",
              "household_size            0\n",
              "Respondent Age            0\n",
              "gender_of_respondent      0\n",
              "The relathip with head    0\n",
              "marital_status            0\n",
              "Level of Educuation       0\n",
              "Type of Job               0\n",
              "dtype: int64"
            ]
          },
          "metadata": {
            "tags": []
          },
          "execution_count": 5
        }
      ]
    },
    {
      "cell_type": "code",
      "metadata": {
        "id": "n_PwxcyzTiQp",
        "outputId": "dbd02c91-52e1-47db-ee72-c552a0f595f2",
        "colab": {
          "base_uri": "https://localhost:8080/",
          "height": 193
        }
      },
      "source": [
        "#Dropping columns not useful in analysis\n",
        "finance_df.drop(['uniqueid', 'The relathip with head','marital_status'], axis=1,inplace=True) \n",
        "finance_df.head(3)\n"
      ],
      "execution_count": 6,
      "outputs": [
        {
          "output_type": "execute_result",
          "data": {
            "text/html": [
              "<div>\n",
              "<style scoped>\n",
              "    .dataframe tbody tr th:only-of-type {\n",
              "        vertical-align: middle;\n",
              "    }\n",
              "\n",
              "    .dataframe tbody tr th {\n",
              "        vertical-align: top;\n",
              "    }\n",
              "\n",
              "    .dataframe thead th {\n",
              "        text-align: right;\n",
              "    }\n",
              "</style>\n",
              "<table border=\"1\" class=\"dataframe\">\n",
              "  <thead>\n",
              "    <tr style=\"text-align: right;\">\n",
              "      <th></th>\n",
              "      <th>country</th>\n",
              "      <th>year</th>\n",
              "      <th>Has a Bank account</th>\n",
              "      <th>Type of Location</th>\n",
              "      <th>Cell Phone Access</th>\n",
              "      <th>household_size</th>\n",
              "      <th>Respondent Age</th>\n",
              "      <th>gender_of_respondent</th>\n",
              "      <th>Level of Educuation</th>\n",
              "      <th>Type of Job</th>\n",
              "    </tr>\n",
              "  </thead>\n",
              "  <tbody>\n",
              "    <tr>\n",
              "      <th>0</th>\n",
              "      <td>Kenya</td>\n",
              "      <td>2018</td>\n",
              "      <td>Yes</td>\n",
              "      <td>Rural</td>\n",
              "      <td>Yes</td>\n",
              "      <td>3.0</td>\n",
              "      <td>24.0</td>\n",
              "      <td>Female</td>\n",
              "      <td>Secondary education</td>\n",
              "      <td>Self employed</td>\n",
              "    </tr>\n",
              "    <tr>\n",
              "      <th>1</th>\n",
              "      <td>Kenya</td>\n",
              "      <td>2018</td>\n",
              "      <td>No</td>\n",
              "      <td>Rural</td>\n",
              "      <td>No</td>\n",
              "      <td>5.0</td>\n",
              "      <td>70.0</td>\n",
              "      <td>Female</td>\n",
              "      <td>No formal education</td>\n",
              "      <td>Government Dependent</td>\n",
              "    </tr>\n",
              "    <tr>\n",
              "      <th>2</th>\n",
              "      <td>Kenya</td>\n",
              "      <td>2018</td>\n",
              "      <td>Yes</td>\n",
              "      <td>Urban</td>\n",
              "      <td>Yes</td>\n",
              "      <td>5.0</td>\n",
              "      <td>26.0</td>\n",
              "      <td>Male</td>\n",
              "      <td>Vocational/Specialised training</td>\n",
              "      <td>Self employed</td>\n",
              "    </tr>\n",
              "  </tbody>\n",
              "</table>\n",
              "</div>"
            ],
            "text/plain": [
              "  country  year  ...              Level of Educuation           Type of Job\n",
              "0   Kenya  2018  ...              Secondary education         Self employed\n",
              "1   Kenya  2018  ...              No formal education  Government Dependent\n",
              "2   Kenya  2018  ...  Vocational/Specialised training         Self employed\n",
              "\n",
              "[3 rows x 10 columns]"
            ]
          },
          "metadata": {
            "tags": []
          },
          "execution_count": 6
        }
      ]
    },
    {
      "cell_type": "code",
      "metadata": {
        "id": "EKtLn1kXGJHA",
        "outputId": "ead7261a-806a-4378-bca9-17c5a0a4dd04",
        "colab": {
          "base_uri": "https://localhost:8080/",
          "height": 312
        }
      },
      "source": [
        "finance_df.info()"
      ],
      "execution_count": 8,
      "outputs": [
        {
          "output_type": "stream",
          "text": [
            "<class 'pandas.core.frame.DataFrame'>\n",
            "Int64Index: 23343 entries, 0 to 23523\n",
            "Data columns (total 10 columns):\n",
            " #   Column                Non-Null Count  Dtype  \n",
            "---  ------                --------------  -----  \n",
            " 0   country               23343 non-null  object \n",
            " 1   year                  23343 non-null  int64  \n",
            " 2   Has a Bank account    23343 non-null  object \n",
            " 3   Type of Location      23343 non-null  object \n",
            " 4   Cell Phone Access     23343 non-null  object \n",
            " 5   household_size        23343 non-null  float64\n",
            " 6   Respondent Age        23343 non-null  float64\n",
            " 7   gender_of_respondent  23343 non-null  object \n",
            " 8   Level of Educuation   23343 non-null  object \n",
            " 9   Type of Job           23343 non-null  object \n",
            "dtypes: float64(2), int64(1), object(7)\n",
            "memory usage: 2.0+ MB\n"
          ],
          "name": "stdout"
        }
      ]
    },
    {
      "cell_type": "markdown",
      "metadata": {
        "id": "6eiG3lpUlkzO"
      },
      "source": [
        "Renaming Columns"
      ]
    },
    {
      "cell_type": "code",
      "metadata": {
        "id": "9dt8F49TIdWu"
      },
      "source": [
        "finance_df.rename(columns = {'Has a Bank account':'BANK_ACCOUNT', 'Type of Location': 'LOCATION', 'Cell Phone Access': 'PHONE_ACCESS','\tgender_of_respondent': 'GENDER'}, inplace = True) "
      ],
      "execution_count": 11,
      "outputs": []
    },
    {
      "cell_type": "code",
      "metadata": {
        "id": "bPeEDJTuJ0dI"
      },
      "source": [
        "finance_df.rename(columns = {'Respondent Age':'AGE', 'Level of Educuation': 'EDUCATION_LEVEL', 'Type of Job': 'JOB','\tcountry': 'COUNTRY','year': 'YEAR'}, inplace = True) "
      ],
      "execution_count": 12,
      "outputs": []
    },
    {
      "cell_type": "code",
      "metadata": {
        "id": "J0jhIbrHKvZ7"
      },
      "source": [
        "finance_df.rename(columns = {'country':'COUNTRY', 'gender_of_respondent': 'GENDER'}, inplace = True)"
      ],
      "execution_count": 14,
      "outputs": []
    },
    {
      "cell_type": "code",
      "metadata": {
        "id": "ogb0qy5zKkNI",
        "outputId": "fd34515b-f9b9-422b-bd71-91a006995869",
        "colab": {
          "base_uri": "https://localhost:8080/",
          "height": 141
        }
      },
      "source": [
        "finance_df.head(3)"
      ],
      "execution_count": 15,
      "outputs": [
        {
          "output_type": "execute_result",
          "data": {
            "text/html": [
              "<div>\n",
              "<style scoped>\n",
              "    .dataframe tbody tr th:only-of-type {\n",
              "        vertical-align: middle;\n",
              "    }\n",
              "\n",
              "    .dataframe tbody tr th {\n",
              "        vertical-align: top;\n",
              "    }\n",
              "\n",
              "    .dataframe thead th {\n",
              "        text-align: right;\n",
              "    }\n",
              "</style>\n",
              "<table border=\"1\" class=\"dataframe\">\n",
              "  <thead>\n",
              "    <tr style=\"text-align: right;\">\n",
              "      <th></th>\n",
              "      <th>COUNTRY</th>\n",
              "      <th>YEAR</th>\n",
              "      <th>BANK_ACCOUNT</th>\n",
              "      <th>LOCATION</th>\n",
              "      <th>PHONE_ACCESS</th>\n",
              "      <th>household_size</th>\n",
              "      <th>AGE</th>\n",
              "      <th>GENDER</th>\n",
              "      <th>EDUCATION_LEVEL</th>\n",
              "      <th>JOB</th>\n",
              "    </tr>\n",
              "  </thead>\n",
              "  <tbody>\n",
              "    <tr>\n",
              "      <th>0</th>\n",
              "      <td>Kenya</td>\n",
              "      <td>2018</td>\n",
              "      <td>Yes</td>\n",
              "      <td>Rural</td>\n",
              "      <td>Yes</td>\n",
              "      <td>3.0</td>\n",
              "      <td>24.0</td>\n",
              "      <td>Female</td>\n",
              "      <td>Secondary education</td>\n",
              "      <td>Self employed</td>\n",
              "    </tr>\n",
              "    <tr>\n",
              "      <th>1</th>\n",
              "      <td>Kenya</td>\n",
              "      <td>2018</td>\n",
              "      <td>No</td>\n",
              "      <td>Rural</td>\n",
              "      <td>No</td>\n",
              "      <td>5.0</td>\n",
              "      <td>70.0</td>\n",
              "      <td>Female</td>\n",
              "      <td>No formal education</td>\n",
              "      <td>Government Dependent</td>\n",
              "    </tr>\n",
              "    <tr>\n",
              "      <th>2</th>\n",
              "      <td>Kenya</td>\n",
              "      <td>2018</td>\n",
              "      <td>Yes</td>\n",
              "      <td>Urban</td>\n",
              "      <td>Yes</td>\n",
              "      <td>5.0</td>\n",
              "      <td>26.0</td>\n",
              "      <td>Male</td>\n",
              "      <td>Vocational/Specialised training</td>\n",
              "      <td>Self employed</td>\n",
              "    </tr>\n",
              "  </tbody>\n",
              "</table>\n",
              "</div>"
            ],
            "text/plain": [
              "  COUNTRY  YEAR  ...                  EDUCATION_LEVEL                   JOB\n",
              "0   Kenya  2018  ...              Secondary education         Self employed\n",
              "1   Kenya  2018  ...              No formal education  Government Dependent\n",
              "2   Kenya  2018  ...  Vocational/Specialised training         Self employed\n",
              "\n",
              "[3 rows x 10 columns]"
            ]
          },
          "metadata": {
            "tags": []
          },
          "execution_count": 15
        }
      ]
    },
    {
      "cell_type": "code",
      "metadata": {
        "id": "FRVQ5QitnuFA",
        "outputId": "54c9d5c8-9e2f-4c33-cf9d-04d3b365afd7",
        "colab": {
          "base_uri": "https://localhost:8080/",
          "height": 35
        }
      },
      "source": [
        "# Determining outliers in the Dataset\n",
        "finance_df[\"AGE\"].kurt()"
      ],
      "execution_count": 43,
      "outputs": [
        {
          "output_type": "execute_result",
          "data": {
            "text/plain": [
              "0.09844652254807196"
            ]
          },
          "metadata": {
            "tags": []
          },
          "execution_count": 43
        }
      ]
    },
    {
      "cell_type": "markdown",
      "metadata": {
        "id": "OTcds35rn0qD"
      },
      "source": [
        "There are no outliers in the Dataset"
      ]
    },
    {
      "cell_type": "markdown",
      "metadata": {
        "id": "rn5nnYJGlrQR"
      },
      "source": [
        "UNIVARIATE ANALYSIS"
      ]
    },
    {
      "cell_type": "markdown",
      "metadata": {
        "id": "LHuPiqZgHE0F"
      },
      "source": [
        "The research problem is to figure out how we can predict which individuals are most likely to have or use a bank account"
      ]
    },
    {
      "cell_type": "code",
      "metadata": {
        "id": "5SOIdEwSHF-d",
        "outputId": "05c1f52d-6ad2-40c8-eb36-3d5543fa5e40",
        "colab": {
          "base_uri": "https://localhost:8080/",
          "height": 69
        }
      },
      "source": [
        "# get the value counts of the 'gender' variable\n",
        "finance_df.gender_of_respondent.value_counts()"
      ],
      "execution_count": 9,
      "outputs": [
        {
          "output_type": "execute_result",
          "data": {
            "text/plain": [
              "Female    13767\n",
              "Male       9576\n",
              "Name: gender_of_respondent, dtype: int64"
            ]
          },
          "metadata": {
            "tags": []
          },
          "execution_count": 9
        }
      ]
    },
    {
      "cell_type": "code",
      "metadata": {
        "id": "eriZAWGlIF6C",
        "outputId": "9345906d-1a23-437a-e8c1-39431d552192",
        "colab": {
          "base_uri": "https://localhost:8080/",
          "height": 69
        }
      },
      "source": [
        "#Get the number of account holders\n",
        "finance_df.BANK_ACCOUNT.value_counts()"
      ],
      "execution_count": 16,
      "outputs": [
        {
          "output_type": "execute_result",
          "data": {
            "text/plain": [
              "No     20046\n",
              "Yes     3297\n",
              "Name: BANK_ACCOUNT, dtype: int64"
            ]
          },
          "metadata": {
            "tags": []
          },
          "execution_count": 16
        }
      ]
    },
    {
      "cell_type": "markdown",
      "metadata": {
        "id": "EfptmGk1iaRh"
      },
      "source": [
        "There are more bank account holders in this population\n"
      ]
    },
    {
      "cell_type": "code",
      "metadata": {
        "id": "DOzBWrwOO7Mo",
        "outputId": "1f9f9aed-1372-4a52-9bfc-6acb651679e3",
        "colab": {
          "base_uri": "https://localhost:8080/",
          "height": 329
        }
      },
      "source": [
        "#finance_df.groupby(['Name', 'Qualification']) \n",
        "finance_df.groupby(['GENDER','LOCATION','PHONE_ACCESS','BANK_ACCOUNT'])['BANK_ACCOUNT'].count()"
      ],
      "execution_count": 33,
      "outputs": [
        {
          "output_type": "execute_result",
          "data": {
            "text/plain": [
              "GENDER  LOCATION  PHONE_ACCESS  BANK_ACCOUNT\n",
              "Female  Rural     No            No              2158\n",
              "                                Yes               34\n",
              "                  Yes           No              5606\n",
              "                                Yes              689\n",
              "        Urban     No            No              1848\n",
              "                                Yes               17\n",
              "                  Yes           No              2675\n",
              "                                Yes              740\n",
              "Male    Rural     No            No              1027\n",
              "                                Yes               37\n",
              "                  Yes           No              3810\n",
              "                                Yes              903\n",
              "        Urban     No            No               872\n",
              "                                Yes               16\n",
              "                  Yes           No              2050\n",
              "                                Yes              861\n",
              "Name: BANK_ACCOUNT, dtype: int64"
            ]
          },
          "metadata": {
            "tags": []
          },
          "execution_count": 33
        }
      ]
    },
    {
      "cell_type": "code",
      "metadata": {
        "id": "fgt8uNXYUqh-",
        "outputId": "f64a5148-8af4-4c23-8184-ab804a33e5c6",
        "colab": {
          "base_uri": "https://localhost:8080/",
          "height": 329
        }
      },
      "source": [
        "finance_df.groupby(['GENDER','PHONE_ACCESS','COUNTRY'])['BANK_ACCOUNT'].count()"
      ],
      "execution_count": 44,
      "outputs": [
        {
          "output_type": "execute_result",
          "data": {
            "text/plain": [
              "GENDER  PHONE_ACCESS  COUNTRY \n",
              "Female  No            Kenya        811\n",
              "                      Rwanda      1008\n",
              "                      Tanzania    1785\n",
              "                      Uganda       453\n",
              "        Yes           Kenya       2669\n",
              "                      Rwanda      4165\n",
              "                      Tanzania    1947\n",
              "                      Uganda       929\n",
              "Male    No            Kenya        472\n",
              "                      Rwanda       469\n",
              "                      Tanzania     828\n",
              "                      Uganda       183\n",
              "        Yes           Kenya       2112\n",
              "                      Rwanda      3042\n",
              "                      Tanzania    1940\n",
              "                      Uganda       530\n",
              "Name: BANK_ACCOUNT, dtype: int64"
            ]
          },
          "metadata": {
            "tags": []
          },
          "execution_count": 44
        }
      ]
    },
    {
      "cell_type": "code",
      "metadata": {
        "id": "JDTPlM3xrPac",
        "outputId": "9e68b86d-f2d3-4d3e-b258-e1991201f601",
        "colab": {
          "base_uri": "https://localhost:8080/",
          "height": 191
        }
      },
      "source": [
        "finance_df.groupby(['COUNTRY','PHONE_ACCESS'])['BANK_ACCOUNT'].count()"
      ],
      "execution_count": 46,
      "outputs": [
        {
          "output_type": "execute_result",
          "data": {
            "text/plain": [
              "COUNTRY   PHONE_ACCESS\n",
              "Kenya     No              1283\n",
              "          Yes             4781\n",
              "Rwanda    No              1477\n",
              "          Yes             7207\n",
              "Tanzania  No              2613\n",
              "          Yes             3887\n",
              "Uganda    No               636\n",
              "          Yes             1459\n",
              "Name: BANK_ACCOUNT, dtype: int64"
            ]
          },
          "metadata": {
            "tags": []
          },
          "execution_count": 46
        }
      ]
    },
    {
      "cell_type": "code",
      "metadata": {
        "id": "xG5u0tylrl36",
        "outputId": "e6080cd5-5e9a-4bcd-e722-02ae01d7f47f",
        "colab": {
          "base_uri": "https://localhost:8080/",
          "height": 191
        }
      },
      "source": [
        "finance_df.groupby(['COUNTRY','GENDER'])['BANK_ACCOUNT'].count()"
      ],
      "execution_count": 50,
      "outputs": [
        {
          "output_type": "execute_result",
          "data": {
            "text/plain": [
              "COUNTRY   GENDER\n",
              "Kenya     Female    3480\n",
              "          Male      2584\n",
              "Rwanda    Female    5173\n",
              "          Male      3511\n",
              "Tanzania  Female    3732\n",
              "          Male      2768\n",
              "Uganda    Female    1382\n",
              "          Male       713\n",
              "Name: BANK_ACCOUNT, dtype: int64"
            ]
          },
          "metadata": {
            "tags": []
          },
          "execution_count": 50
        }
      ]
    },
    {
      "cell_type": "code",
      "metadata": {
        "id": "IvC-xeQpsAdM",
        "outputId": "bd3811bd-58a6-4325-c8be-c03f6c9dc4ce",
        "colab": {
          "base_uri": "https://localhost:8080/",
          "height": 191
        }
      },
      "source": [
        "finance_df.groupby(['COUNTRY', 'PHONE_ACCESS'])['AGE'].mean()"
      ],
      "execution_count": 54,
      "outputs": [
        {
          "output_type": "execute_result",
          "data": {
            "text/plain": [
              "COUNTRY   PHONE_ACCESS\n",
              "Kenya     No              41.016368\n",
              "          Yes             39.245555\n",
              "Rwanda    No              46.538930\n",
              "          Yes             37.788261\n",
              "Tanzania  No              40.230004\n",
              "          Yes             37.307692\n",
              "Uganda    No              38.106918\n",
              "          Yes             34.359150\n",
              "Name: AGE, dtype: float64"
            ]
          },
          "metadata": {
            "tags": []
          },
          "execution_count": 54
        }
      ]
    },
    {
      "cell_type": "code",
      "metadata": {
        "id": "BDuwAcWpsZK3",
        "outputId": "19686ae9-aeda-458f-abb8-3d3d38c1d1cf",
        "colab": {
          "base_uri": "https://localhost:8080/",
          "height": 191
        }
      },
      "source": [
        "finance_df.groupby(['COUNTRY', 'BANK_ACCOUNT'])['AGE'].mean()"
      ],
      "execution_count": 55,
      "outputs": [
        {
          "output_type": "execute_result",
          "data": {
            "text/plain": [
              "COUNTRY   BANK_ACCOUNT\n",
              "Kenya     No              39.196963\n",
              "          Yes             40.885526\n",
              "Rwanda    No              39.312736\n",
              "          Yes             38.997994\n",
              "Tanzania  No              38.449076\n",
              "          Yes             38.811352\n",
              "Uganda    No              35.559561\n",
              "          Yes             34.834254\n",
              "Name: AGE, dtype: float64"
            ]
          },
          "metadata": {
            "tags": []
          },
          "execution_count": 55
        }
      ]
    },
    {
      "cell_type": "markdown",
      "metadata": {
        "id": "4PWcxkrBh_SU"
      },
      "source": [
        "Women have both more greater access to phones and have bank accounts"
      ]
    },
    {
      "cell_type": "code",
      "metadata": {
        "id": "MAnoWlUwaS1k",
        "outputId": "15eaa38c-2fbb-48ac-a877-f24e0e988585",
        "colab": {
          "base_uri": "https://localhost:8080/",
          "height": 295
        }
      },
      "source": [
        "ages = finance_df['AGE']\n",
        "\n",
        "plt.hist(ages, bins=15, histtype='bar', rwidth=0.9)\n",
        "\n",
        "plt.xlabel('x')\n",
        "plt.ylabel('y')\n",
        "plt.title('Histogram of Age Distribution') \n",
        "plt.show()"
      ],
      "execution_count": 37,
      "outputs": [
        {
          "output_type": "display_data",
          "data": {
            "image/png": "[encoded data removed]",
            "text/plain": [
              "<Figure size 432x288 with 1 Axes>"
            ]
          },
          "metadata": {
            "tags": [],
            "needs_background": "light"
          }
        }
      ]
    },
    {
      "cell_type": "markdown",
      "metadata": {
        "id": "pWyRcYyrhJaK"
      },
      "source": [
        "This shows majority of the popilations are between 20 and 40 years of age"
      ]
    },
    {
      "cell_type": "code",
      "metadata": {
        "id": "V6z0LmpomjU6",
        "outputId": "9097f73b-f9fa-4476-e06d-aeb4fce5289d",
        "colab": {
          "base_uri": "https://localhost:8080/",
          "height": 35
        }
      },
      "source": [
        "# Finding the min and max values of the age\n",
        "finance_df_max = finance_df[\"AGE\"].max()\n",
        "finance_df_min = finance_df[\"AGE\"].min()\n",
        "\n",
        "# Calculating the range\n",
        "finance_df_max - finance_df_min"
      ],
      "execution_count": 41,
      "outputs": [
        {
          "output_type": "execute_result",
          "data": {
            "text/plain": [
              "84.0"
            ]
          },
          "metadata": {
            "tags": []
          },
          "execution_count": 41
        }
      ]
    },
    {
      "cell_type": "markdown",
      "metadata": {
        "id": "Ie3uTTROkjN5"
      },
      "source": [
        "BIVARIATE ANALYSIS"
      ]
    },
    {
      "cell_type": "markdown",
      "metadata": {
        "id": "unewPS_3qE5s"
      },
      "source": [
        "Which individuals are most likely to have or use a bank account"
      ]
    },
    {
      "cell_type": "code",
      "metadata": {
        "id": "QT8nZXsXknMu",
        "outputId": "23604a66-af78-4a48-e9f5-c3591059f785",
        "colab": {
          "base_uri": "https://localhost:8080/",
          "height": 597
        }
      },
      "source": [
        "# create a heatmap of the correlations of the variables in the dataset\n",
        "plt.figure(figsize=(10,10))\n",
        "sns.heatmap(finance_df.corr(), annot=True, square=True) "
      ],
      "execution_count": 39,
      "outputs": [
        {
          "output_type": "execute_result",
          "data": {
            "text/plain": [
              "<matplotlib.axes._subplots.AxesSubplot at 0x7f7d5eec1668>"
            ]
          },
          "metadata": {
            "tags": []
          },
          "execution_count": 39
        },
        {
          "output_type": "display_data",
          "data": {
            "image/png": "[encoded data removed]",
            "text/plain": [
              "<Figure size 720x720 with 2 Axes>"
            ]
          },
          "metadata": {
            "tags": [],
            "needs_background": "light"
          }
        }
      ]
    },
    {
      "cell_type": "markdown",
      "metadata": {
        "id": "c4d3Di_zpCdH"
      },
      "source": [
        "The highest correleation is "
      ]
    },
    {
      "cell_type": "markdown",
      "metadata": {
        "id": "VbzEVYPRqeNj"
      },
      "source": [
        "Summary and Recommendations"
      ]
    },
    {
      "cell_type": "markdown",
      "metadata": {
        "id": "nJVBosftqhMH"
      },
      "source": [
        "Focus on Uganda in terms of increase in number of users to access bank account\n",
        "Invest more in males in the Urban areas to increase reach\n",
        "Target more Female  because Female have an inclination to banking\n",
        "\n"
      ]
    }
  ]
}